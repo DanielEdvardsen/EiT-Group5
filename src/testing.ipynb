{
 "cells": [
  {
   "cell_type": "code",
   "execution_count": 1,
   "metadata": {},
   "outputs": [
    {
     "name": "stdout",
     "output_type": "stream",
     "text": [
      "Jupyter environment detected. Enabling Open3D WebVisualizer.\n",
      "[Open3D INFO] WebRTC GUI backend enabled.\n",
      "[Open3D INFO] WebRTCWindowSystem: HTTP handshake server disabled.\n"
     ]
    }
   ],
   "source": [
    "import nibabel as nib\n",
    "import cv2 as cv\n",
    "import numpy as np\n",
    "import matplotlib.pyplot as plt\n",
    "import open3d as o3d\n",
    "import skimage"
   ]
  },
  {
   "cell_type": "code",
   "execution_count": 2,
   "metadata": {},
   "outputs": [
    {
     "name": "stdout",
     "output_type": "stream",
     "text": [
      "PointCloud with 3000 points.\n",
      "std::vector<Eigen::Vector3d> with 3000 elements.\n",
      "Use numpy.asarray() to access data.\n"
     ]
    }
   ],
   "source": [
    "bunny = o3d.data.BunnyMesh()\n",
    "gt_mesh = o3d.io.read_triangle_mesh(bunny.path)\n",
    "gt_mesh.compute_vertex_normals()\n",
    "\n",
    "pcd = gt_mesh.sample_points_poisson_disk(3000)\n",
    "print(pcd)\n",
    "print(pcd.points)\n",
    "# o3d.visualization.draw_geometries([pcd])"
   ]
  },
  {
   "cell_type": "code",
   "execution_count": 3,
   "metadata": {},
   "outputs": [],
   "source": [
    "radii = [0.005, 0.01, 0.02, 0.04]\n",
    "rec_mesh = o3d.geometry.TriangleMesh.create_from_point_cloud_ball_pivoting(\n",
    "    pcd, o3d.utility.DoubleVector(radii))\n",
    "# o3d.visualization.draw_geometries([pcd, rec_mesh])"
   ]
  },
  {
   "cell_type": "code",
   "execution_count": 4,
   "metadata": {},
   "outputs": [],
   "source": [
    "my_pcd = o3d.io.read_point_cloud(\"constructions/sub-001.ply\")"
   ]
  },
  {
   "cell_type": "code",
   "execution_count": 5,
   "metadata": {},
   "outputs": [],
   "source": [
    "o3d.visualization.draw_geometries([my_pcd])"
   ]
  },
  {
   "cell_type": "code",
   "execution_count": 6,
   "metadata": {},
   "outputs": [],
   "source": [
    "# Compute the axis-aligned bounding box of the point cloud\n",
    "bounding_box = my_pcd.get_axis_aligned_bounding_box()\n",
    "\n",
    "# Get the minimum and maximum corners of the bounding box\n",
    "min_bound = bounding_box.get_min_bound()\n",
    "max_bound = bounding_box.get_max_bound()\n",
    "\n",
    "# Compute the scale factors needed for normalization\n",
    "scale_factors = max_bound - min_bound\n",
    "\n",
    "# Avoid division by zero in case of degenerate (flat) point clouds\n",
    "scale_factors[scale_factors == 0] = 1\n",
    "\n",
    "# Translate and scale the points\n",
    "normalized_points = (np.asarray(my_pcd.points) - min_bound) / scale_factors\n",
    "\n",
    "# Create a new point cloud for the normalized points\n",
    "normalized_pcd = o3d.geometry.PointCloud()\n",
    "normalized_pcd.points = o3d.utility.Vector3dVector(normalized_points)"
   ]
  },
  {
   "cell_type": "code",
   "execution_count": 7,
   "metadata": {},
   "outputs": [],
   "source": [
    "my_pcd.normals = o3d.utility.Vector3dVector(np.zeros(\n",
    "    (1, 3))) \n",
    "my_pcd.estimate_normals()\n",
    "o3d.visualization.draw_geometries([my_pcd], point_show_normal=True)"
   ]
  },
  {
   "cell_type": "code",
   "execution_count": 8,
   "metadata": {},
   "outputs": [],
   "source": [
    "my_pcd.orient_normals_consistent_tangent_plane(100)\n",
    "o3d.visualization.draw_geometries([my_pcd], point_show_normal=True)"
   ]
  },
  {
   "cell_type": "code",
   "execution_count": 34,
   "metadata": {},
   "outputs": [
    {
     "name": "stdout",
     "output_type": "stream",
     "text": [
      "run Poisson surface reconstruction\n",
      "[Open3D DEBUG] Input Points / Samples: 79070 / 79070\n",
      "[Open3D DEBUG] #   Got kernel density: 0.49095916748046875 (s), 739.98046875 (MB) / 739.98046875 (MB) / 746 (MB)\n",
      "[Open3D DEBUG] #     Got normal field: 0.42777299880981445 (s), 829.73046875 (MB) / 829.73046875 (MB) / 829 (MB)\n",
      "[Open3D DEBUG] Point weight / Estimated Area: 4.689845e-05 / 3.708261e+00\n",
      "[Open3D DEBUG] #       Finalized tree: 1.0830230712890625 (s), 929.98046875 (MB) / 929.98046875 (MB) / 929 (MB)\n",
      "[Open3D DEBUG] #  Set FEM constraints: 0.8193440437316895 (s), 835.6328125 (MB) / 929.98046875 (MB) / 929 (MB)\n",
      "[Open3D DEBUG] #Set point constraints: 0.20771002769470215 (s), 835.7578125 (MB) / 929.98046875 (MB) / 929 (MB)\n",
      "[Open3D DEBUG] Leaf Nodes / Active Nodes / Ghost Nodes: 4537604 / 1214808 / 3971025\n",
      "[Open3D DEBUG] Memory Usage: 835.758 MB\n",
      "Cycle[0] Depth[ 0/11]:\tUpdated constraints / Got system / Solved in:  0.000 /  0.000 /  0.000\t(835.758 MB)\tNodes: 8\n",
      "CG: 1.3130e+00 -> 1.3130e+00 -> 1.0152e-03 (7.7e-04) [32698]\n",
      "Cycle[0] Depth[ 1/11]:\tUpdated constraints / Got system / Solved in:  0.013 /  0.000 /  0.000\t(835.758 MB)\tNodes: 27\n",
      "  GS: 4.1705e+00 -> 4.1705e+00 -> 4.3300e-04 (1.0e-04) [8]\n",
      "Cycle[0] Depth[ 2/11]:\tUpdated constraints / Got system / Solved in:  0.001 /  0.006 /  0.000\t(835.758 MB)\tNodes: 125\n",
      "    GS: 2.6665e+00 -> 2.6665e+00 -> 1.1212e-04 (4.2e-05) [8]\n",
      "Cycle[0] Depth[ 3/11]:\tUpdated constraints / Got system / Solved in:  0.001 /  0.003 /  0.000\t(835.758 MB)\tNodes: 729\n",
      "      GS: 3.1495e+00 -> 3.1495e+00 -> 1.3006e-02 (4.1e-03) [8]\n",
      "Cycle[0] Depth[ 4/11]:\tUpdated constraints / Got system / Solved in:  0.001 /  0.021 /  0.003\t(835.758 MB)\tNodes: 4913\n",
      "        GS: 3.0731e+00 -> 3.0731e+00 -> 1.3171e-02 (4.3e-03) [8]\n",
      "Cycle[0] Depth[ 5/11]:\tUpdated constraints / Got system / Solved in:  0.002 /  0.031 /  0.016\t(835.758 MB)\tNodes: 35937\n",
      "          GS: 2.8276e+00 -> 2.8276e+00 -> 1.2399e-02 (4.4e-03) [8]\n",
      "Cycle[0] Depth[ 6/11]:\tUpdated constraints / Got system / Solved in:  0.008 /  0.040 /  0.160\t(835.758 MB)\tNodes: 102344\n",
      "            GS: 2.1211e+00 -> 2.1211e+00 -> 5.4908e-03 (2.6e-03) [8]\n",
      "Cycle[0] Depth[ 7/11]:\tUpdated constraints / Got system / Solved in:  0.013 /  0.102 /  0.203\t(835.758 MB)\tNodes: 339312\n",
      "              GS: 1.1088e+00 -> 1.1088e+00 -> 2.6862e-03 (2.4e-03) [8]\n",
      "Cycle[0] Depth[ 8/11]:\tUpdated constraints / Got system / Solved in:  0.028 /  0.168 /  0.377\t(835.758 MB)\tNodes: 705896\n",
      "                GS: 7.4894e-01 -> 7.4894e-01 -> 4.2107e-04 (5.6e-04) [8]\n",
      "Cycle[0] Depth[ 9/11]:\tUpdated constraints / Got system / Solved in:  0.005 /  0.009 /  0.002\t(835.758 MB)\tNodes: 0\n",
      "                  GS: 0.0000e+00 -> 0.0000e+00 -> 0.0000e+00 (-nan) [8]\n",
      "Cycle[0] Depth[10/11]:\tUpdated constraints / Got system / Solved in:  0.010 /  0.015 /  0.003\t(835.758 MB)\tNodes: 0\n",
      "                    GS: 0.0000e+00 -> 0.0000e+00 -> 0.0000e[Open3D DEBUG] # Linear system solved: 2.1534698009490967 (s), 835.7578125 (MB) / 929.98046875 (MB) / 929 (MB)\n",
      "+00 (-nan) [8]\n",
      "Cycle[0] Depth[11/11]:\tUpdated constraints / Got system / Solved in:  0.012 /  0.027 /  0.005\t(835.758 MB)\tNodes: 0\n",
      "                      GS: 0.0000e+00 -> 0.0000e+00 -> 0.0000e+00 (-nan) [8]\n",
      "[Open3D DEBUG] Got average: 0.04663896560668945 (s), 835.7578125 (MB) / 929.98046875 (MB) / 929 (MB)\n",
      "[Open3D DEBUG] Iso-Value: 5.008106e-01 = 3.959910e+04 / 7.907000e+04\n",
      "[Open3D DEBUG] #          Total Solve:      12.1 (s),     930.0 (MB)\n",
      "TriangleMesh with 201177 points and 402346 triangles.\n"
     ]
    }
   ],
   "source": [
    "print('run Poisson surface reconstruction')\n",
    "with o3d.utility.VerbosityContextManager(\n",
    "        o3d.utility.VerbosityLevel.Debug) as cm:\n",
    "    mesh, densities = o3d.geometry.TriangleMesh.create_from_point_cloud_poisson(\n",
    "        my_pcd, depth=11)\n",
    "print(mesh)\n",
    "o3d.visualization.draw_geometries([mesh])"
   ]
  },
  {
   "cell_type": "code",
   "execution_count": 64,
   "metadata": {},
   "outputs": [],
   "source": [
    "o3d.visualization.draw_geometries([mesh])"
   ]
  },
  {
   "cell_type": "code",
   "execution_count": 65,
   "metadata": {},
   "outputs": [
    {
     "data": {
      "text/plain": [
       "True"
      ]
     },
     "execution_count": 65,
     "metadata": {},
     "output_type": "execute_result"
    }
   ],
   "source": [
    "o3d.io.write_triangle_mesh(\"constructions/sub-001_mesh.obj\", mesh)"
   ]
  },
  {
   "cell_type": "markdown",
   "metadata": {},
   "source": [
    "## Point cloud ball poviting"
   ]
  },
  {
   "cell_type": "code",
   "execution_count": 35,
   "metadata": {},
   "outputs": [],
   "source": [
    "distances = my_pcd.compute_nearest_neighbor_distance()\n",
    "average_distance = np.mean(distances)"
   ]
  },
  {
   "cell_type": "code",
   "execution_count": 36,
   "metadata": {},
   "outputs": [
    {
     "data": {
      "text/plain": [
       "1.000057624246694"
      ]
     },
     "execution_count": 36,
     "metadata": {},
     "output_type": "execute_result"
    }
   ],
   "source": [
    "average_distance"
   ]
  },
  {
   "cell_type": "code",
   "execution_count": 59,
   "metadata": {},
   "outputs": [
    {
     "name": "stdout",
     "output_type": "stream",
     "text": [
      "TriangleMesh with 79070 points and 81675 triangles.\n"
     ]
    }
   ],
   "source": [
    "radii = [average_distance * 2, average_distance * 2.1, average_distance * 8]\n",
    "my_mesh = o3d.geometry.TriangleMesh.create_from_point_cloud_ball_pivoting(\n",
    "    my_pcd, o3d.utility.DoubleVector(radii))\n",
    "print(my_mesh)\n",
    "o3d.visualization.draw_geometries([my_mesh])"
   ]
  },
  {
   "cell_type": "code",
   "execution_count": null,
   "metadata": {},
   "outputs": [],
   "source": []
  }
 ],
 "metadata": {
  "kernelspec": {
   "display_name": "Python 3",
   "language": "python",
   "name": "python3"
  },
  "language_info": {
   "codemirror_mode": {
    "name": "ipython",
    "version": 3
   },
   "file_extension": ".py",
   "mimetype": "text/x-python",
   "name": "python",
   "nbconvert_exporter": "python",
   "pygments_lexer": "ipython3",
   "version": "3.10.12"
  }
 },
 "nbformat": 4,
 "nbformat_minor": 2
}
